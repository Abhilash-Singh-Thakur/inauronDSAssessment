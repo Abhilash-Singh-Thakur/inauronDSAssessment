{
 "cells": [
  {
   "cell_type": "markdown",
   "id": "cafd0686",
   "metadata": {},
   "source": [
    "1. NoSQL Databases:"
   ]
  },
  {
   "cell_type": "markdown",
   "id": "2409ffec",
   "metadata": {},
   "source": [
    "a. Write a Python program that connects to a MongoDB database and inserts a new document into a collection named \"students\". The document should include fields such as \"name\", \"age\", and \"grade\". Print a success message after the insertion."
   ]
  },
  {
   "cell_type": "code",
   "execution_count": null,
   "id": "41f8ae7f",
   "metadata": {},
   "outputs": [],
   "source": [
    "from pymongo import MongoClient\n",
    "\n",
    "def insert_student(name, age, grade):\n",
    "    # Connect to MongoDB\n",
    "    client = MongoClient(\"mongodb://localhost:80180/\")\n",
    "    db = client[\"mydatabase\"]\n",
    "    collection = db[\"students\"]\n",
    "\n",
    "    # Create the student document\n",
    "    student = {\n",
    "        \"name\": name,\n",
    "        \"age\": age,\n",
    "        \"grade\": grade\n",
    "    }\n",
    "\n",
    "    # Insert the document into the collection\n",
    "    collection.insert_one(student)\n",
    "\n",
    "    # Print success message\n",
    "    print(\"Student inserted successfully.\")\n",
    "\n",
    "# Usage example\n",
    "insert_student(\"John Doe\", 18, \"A\")\n"
   ]
  },
  {
   "cell_type": "markdown",
   "id": "d45193bb",
   "metadata": {},
   "source": [
    "b. Implement a Python function that connects to a Cassandra database and inserts a new record into a table named \"products\". The record should contain fields like \"id\", \"name\", and \"price\". Handle any potential errors that may occur during the insertion."
   ]
  },
  {
   "cell_type": "code",
   "execution_count": null,
   "id": "0819d3dc",
   "metadata": {},
   "outputs": [],
   "source": [
    "from cassandra.cluster import Cluster\n",
    "from cassandra.auth import PlainTextAuthProvider\n",
    "from cassandra import ConsistencyLevel\n",
    "from cassandra.query import SimpleStatement\n",
    "\n",
    "def insert_product(id, name, price):\n",
    "    # Connect to Cassandra\n",
    "    cloud_config = {\n",
    "        'secure_connect_bundle': '/path/to/secure-connect-database.zip'\n",
    "    }\n",
    "    auth_provider = PlainTextAuthProvider('username', 'password')\n",
    "    cluster = Cluster(cloud=cloud_config, auth_provider=auth_provider)\n",
    "    session = cluster.connect()\n",
    "\n",
    "    # Create the product record\n",
    "    product = {\n",
    "        \"id\": id,\n",
    "        \"name\": name,\n",
    "        \"price\": price\n",
    "    }\n",
    "\n",
    "    # Prepare the INSERT statement\n",
    "    insert_query = \"INSERT INTO products (id, name, price) VALUES (?, ?, ?)\"\n",
    "    insert_statement = SimpleStatement(insert_query, consistency_level=ConsistencyLevel.QUORUM)\n",
    "\n",
    "    try:\n",
    "        # Execute the INSERT statement\n",
    "        session.execute(insert_statement, (id, name, price))\n",
    "        print(\"Product inserted successfully.\")\n",
    "    except Exception as e:\n",
    "        print(\"Error inserting product:\", str(e))\n",
    "\n",
    "    # Close the connection\n",
    "    session.shutdown()\n",
    "    cluster.shutdown()\n",
    "\n",
    "\n",
    "insert_product(1, \"Example Product\", 9.99)\n"
   ]
  },
  {
   "cell_type": "code",
   "execution_count": null,
   "id": "2621cb6e",
   "metadata": {},
   "outputs": [],
   "source": [
    "2. Document-oriented NoSQL Databases:"
   ]
  },
  {
   "cell_type": "code",
   "execution_count": null,
   "id": "f2379a7f",
   "metadata": {},
   "outputs": [],
   "source": [
    "   a. Given a MongoDB collection named \"books\", write a Python function that fetches all the books published in the last year and prints their titles and authors.\n"
   ]
  },
  {
   "cell_type": "code",
   "execution_count": null,
   "id": "9dbde01c",
   "metadata": {},
   "outputs": [],
   "source": [
    "from pymongo import MongoClient\n",
    "from datetime import datetime, timedelta\n",
    "\n",
    "def fetch_recent_books():\n",
    "    # Connect to MongoDB\n",
    "    client = MongoClient(\"mongodb://localhost:27017/\")\n",
    "    db = client[\"mydatabase\"]\n",
    "    collection = db[\"books\"]\n",
    "\n",
    "    # Calculate the date one year ago\n",
    "    one_year_ago = datetime.now() - timedelta(days=365)\n",
    "\n",
    "    # Construct the query to fetch recent books\n",
    "    query = {\"publication_date\": {\"$gte\": one_year_ago}}\n",
    "\n",
    "    # Fetch the recent books from the collection\n",
    "    recent_books = collection.find(query)\n",
    "\n",
    "    # Print the titles and authors of the recent books\n",
    "    for book in recent_books:\n",
    "        print(\"Title:\", book[\"title\"])\n",
    "        print(\"Author:\", book[\"author\"])\n",
    "        print()\n",
    "\n",
    "fetch_recent_books()\n"
   ]
  },
  {
   "cell_type": "markdown",
   "id": "44dd7492",
   "metadata": {},
   "source": [
    "b. Design a schema for a document-oriented NoSQL database to store customer information for an e-commerce platform. Write a Python program to insert a new customer document into the database and handle any necessary validations."
   ]
  },
  {
   "cell_type": "code",
   "execution_count": null,
   "id": "686489ff",
   "metadata": {},
   "outputs": [],
   "source": [
    "from pymongo import MongoClient\n",
    "\n",
    "def insert_customer(customer):\n",
    "    # Connect to MongoDB\n",
    "    client = MongoClient(\"mongodb://localhost:27017/\")\n",
    "    db = client[\"mydatabase\"]\n",
    "    collection = db[\"customers\"]\n",
    "\n",
    "    # Insert the customer document into the collection\n",
    "    collection.insert_one(customer)\n",
    "\n",
    "    # Print success message\n",
    "    print(\"Customer inserted successfully.\")\n",
    "\n",
    "# Usage example\n",
    "customer = {\n",
    "    \"name\": \"John Doe\",\n",
    "    \"email\": \"johndoe@example.com\",\n",
    "    \"address\": {\n",
    "        \"street\": \"123 Main St\",\n",
    "        \"city\": \"New York\",\n",
    "        \"state\": \"NY\",\n",
    "        \"postal_code\": \"10001\",\n",
    "        \"country\": \"USA\"\n",
    "    }\n",
    "}\n",
    "insert_customer(customer)\n"
   ]
  },
  {
   "cell_type": "code",
   "execution_count": null,
   "id": "62b95461",
   "metadata": {},
   "outputs": [],
   "source": [
    "3. High Availability and Fault Tolerance:\n"
   ]
  },
  {
   "cell_type": "markdown",
   "id": "71f97098",
   "metadata": {},
   "source": [
    "a. Explain the concept of replica sets in MongoDB. Write a Python program that connects to a MongoDB replica set and retrieves the status of the primary and secondary nodes.\n",
    "\n",
    "Ans - Replica sets in MongoDB provide several benefits:\n",
    "\n",
    "High Availability: If the primary node fails, one of the secondary nodes is automatically elected as the new primary. This ensures that the system remains available even in the event of a node failure.\n",
    "\n",
    "Data Redundancy: MongoDB replicates data across multiple nodes, providing data redundancy. If a secondary node fails, another secondary can step in and continue replicating the data.\n",
    "\n",
    "Automatic Failover: Replica sets enable automatic failover, where the replica set members can detect if the primary node becomes unavailable and elect a new primary automatically. This ensures minimal downtime and reduces the need for manual intervention.\n",
    "\n",
    "Read Scalability: Clients can read from secondary nodes in a replica set, distributing read operations across multiple nodes and improving read scalability.\n",
    "\n"
   ]
  },
  {
   "cell_type": "code",
   "execution_count": null,
   "id": "2fd8e54f",
   "metadata": {},
   "outputs": [],
   "source": [
    "from pymongo import MongoClient\n",
    "\n",
    "def check_replica_set_status():\n",
    "    # Connect to MongoDB replica set\n",
    "    client = MongoClient(\"mongodb://localhost:27017/\")\n",
    "    db = client[\"admin\"]\n",
    "\n",
    "    # Get the replica set status\n",
    "    status = db.command(\"replSetGetStatus\")\n",
    "\n",
    "    # Print the status of each member\n",
    "    for member in status[\"members\"]:\n",
    "        print(\"Member ID:\", member[\"_id\"])\n",
    "        print(\"State:\", member[\"stateStr\"])\n",
    "        print()\n",
    "\n",
    "    # Close the connection\n",
    "    client.close()\n",
    "\n",
    "# Usage example\n",
    "check_replica_set_status()\n"
   ]
  },
  {
   "cell_type": "markdown",
   "id": "282a3600",
   "metadata": {},
   "source": [
    "b. Describe how Cassandra ensures high availability and fault tolerance in a distributed database system. Write a Python program that connects to a Cassandra cluster and fetches the status of the nodes.\n"
   ]
  },
  {
   "cell_type": "markdown",
   "id": "7ec8b345",
   "metadata": {},
   "source": [
    "Ans - Cassandra ensures high availability and fault tolerance in a distributed database system through the following mechanisms:\n",
    "\n",
    "Replication: Cassandra uses a peer-to-peer distributed architecture where data is replicated across multiple nodes. Each node in the cluster holds a copy of the data, ensuring redundancy and fault tolerance. Replication can be configured to replicate data across multiple data centers for additional resilience.\n",
    "\n",
    "Consistent Hashing: Cassandra uses consistent hashing to distribute data across the cluster. This ensures that each node in the cluster is responsible for a specific range of data, allowing for efficient read and write operations. Consistent hashing also helps in maintaining data distribution and load balancing as nodes are added or removed from the cluster.\n",
    "\n",
    "Replication Factor: Cassandra allows configuring the replication factor, which determines the number of replicas for each piece of data. By having multiple replicas, Cassandra ensures that data remains available even if some nodes fail. Replicas can be placed on different physical nodes, racks, or data centers to provide fault tolerance and availability.\n",
    "\n",
    "Data Repair: Cassandra periodically performs anti-entropy repairs to reconcile differences between replicas and ensure data consistency. This repair process identifies inconsistencies and synchronizes data across replicas to maintain data integrity and prevent data loss.\n",
    "\n",
    "Gossip Protocol: Cassandra uses a gossip protocol for node discovery and failure detection. Nodes in the cluster communicate with each other, exchanging information about their status and the status of other nodes. This allows Cassandra to detect and respond to node failures quickly, ensuring high availability.\n",
    "\n",
    "Tunable Consistency: Cassandra provides tunable consistency, allowing users to trade off consistency for availability or vice versa based on their application requirements. Consistency levels can be set at the request level, allowing developers to choose the desired level of consistency for each operation.\n",
    "\n",
    "\n"
   ]
  },
  {
   "cell_type": "markdown",
   "id": "4f86835d",
   "metadata": {},
   "source": [
    "4. Sharding in MongoDB:\n",
    "   a. Explain the concept of sharding in MongoDB and how it improves performance and scalability. Write a Python program that sets up sharding for a MongoDB cluster and inserts multiple documents into a sharded collection."
   ]
  },
  {
   "cell_type": "markdown",
   "id": "0ff67b7d",
   "metadata": {},
   "source": [
    "In a sharded cluster, data is divided into chunks based on a shard key, which is a field or set of fields chosen to determine the target shard for each document. Each shard is a separate replica set that stores a subset of the data. The primary purpose of sharding is to distribute data evenly across multiple shards to ensure that the cluster can handle large amounts of data and high throughput.\n",
    "\n",
    "Sharding improves performance and scalability in MongoDB in several ways:\n",
    "\n",
    "Horizontal Scalability: By distributing data across multiple shards, sharding enables MongoDB to handle larger data sets and high traffic loads. Each shard can be hosted on a separate machine or replica set, allowing for increased storage capacity and processing power.\n",
    "\n",
    "Parallel Query Execution: Sharding enables parallel query execution across multiple shards, leading to improved query performance and reduced response times. Queries that involve large datasets can be distributed and executed in parallel across shards, taking advantage of the processing power of multiple machines.\n",
    "\n",
    "Load Balancing: MongoDB's sharding architecture automatically balances the data distribution across shards. As data grows or the cluster expands, MongoDB redistributes the chunks across shards to maintain an even distribution and avoid hotspots or overloading of specific shards.\n",
    "\n"
   ]
  },
  {
   "cell_type": "code",
   "execution_count": null,
   "id": "be048f10",
   "metadata": {},
   "outputs": [],
   "source": [
    "from pymongo import MongoClient\n",
    "from bson import ObjectId\n",
    "\n",
    "def setup_sharding():\n",
    "    # Connect to MongoDB\n",
    "    client = MongoClient(\"mongodb://localhost:27177/\")\n",
    "\n",
    "    # Enable sharding for the database\n",
    "    admin_db = client[\"admin\"]\n",
    "    admin_db.command(\"enableSharding\", \"mydatabase\")\n",
    "\n",
    "    # Create a sharded collection\n",
    "    db = client[\"mydatabase\"]\n",
    "    db.command({\"shardCollection\": \"mydatabase.students\", \"key\": {\"_id\": \"hashed\"}})\n",
    "\n",
    "    # Insert multiple documents into the sharded collection\n",
    "    collection = db[\"students\"]\n",
    "    students = [\n",
    "        {\"_id\": ObjectId(), \"name\": \"John Doe\", \"age\": 18, \"grade\": \"A\"},\n",
    "        {\"_id\": ObjectId(), \"name\": \"Jane Smith\", \"age\": 19, \"grade\": \"B\"},\n",
    "        {\"_id\": ObjectId(), \"name\": \"Mark Johnson\", \"age\": 20, \"grade\": \"C\"}\n",
    "    ]\n",
    "    collection.insert_many(students)\n",
    "\n",
    "    # Print success message\n",
    "    print(\"Sharding set up and documents inserted successfully.\")\n",
    "\n",
    "# Usage example\n",
    "setup_sharding()\n"
   ]
  },
  {
   "cell_type": "markdown",
   "id": "74a48f18",
   "metadata": {},
   "source": [
    "b. To design a sharding strategy for a social media application where user data needs to be distributed across multiple shards, you can use a shard key based on the user ID or username. Here's a Python program to demonstrate how data is distributed and retrieved "
   ]
  },
  {
   "cell_type": "code",
   "execution_count": null,
   "id": "3cb7ff7b",
   "metadata": {},
   "outputs": [],
   "source": [
    "from pymongo import MongoClient\n",
    "from bson import ObjectId\n",
    "\n",
    "def insert_user(user_id, username, email):\n",
    "    # Connect to MongoDB\n",
    "    client = MongoClient(\"mongodb://localhost:27017/\")\n",
    "\n",
    "    # Insert the user document into the sharded collection\n",
    "    db = client[\"mydatabase\"]\n",
    "    collection = db[\"users\"]\n",
    "    user = {\n",
    "        \"_id\": user_id,\n",
    "        \"username\": username,\n",
    "        \"email\": email\n",
    "    }\n",
    "    collection.insert_one(user)\n",
    "\n",
    "    # Print success message\n",
    "    print(\"User inserted successfully.\")\n",
    "\n",
    "def find_user(username):\n",
    "    # Connect to MongoDB\n",
    "    client = MongoClient(\"mongodb://localhost:27017/\")\n",
    "\n",
    "    # Find the user document based on username\n",
    "    db = client[\"mydatabase\"]\n",
    "    collection = db[\"users\"]\n",
    "    user = collection.find_one({\"username\": username})\n",
    "\n",
    "    # Print user details\n",
    "    if user:\n",
    "        print(\"User details:\")\n",
    "        print(\"_id:\", user[\"_id\"])\n",
    "        print(\"username:\", user[\"username\"])\n",
    "        print(\"email:\", user[\"email\"])\n",
    "    else:\n",
    "        print(\"User not found.\")\n",
    "\n",
    "# Usage example\n",
    "insert_user(ObjectId(), \"john123\", \"john@example.com\")\n",
    "insert_user(ObjectId(), \"jane456\", \"jane@example.com\")\n",
    "\n",
    "find_user(\"john123\")\n",
    "find_user(\"jane456\")\n",
    "find_user(\"nonexistentuser\")\n"
   ]
  },
  {
   "cell_type": "markdown",
   "id": "8a9b15e2",
   "metadata": {},
   "source": [
    "5. Indexing in MongoDB:\n",
    "   a. Describe the concept of indexing in MongoDB and its importance in query optimization. Write a Python program that creates an index on a specific field in a MongoDB collection and executes a query using that index."
   ]
  },
  {
   "cell_type": "markdown",
   "id": "69e90b6e",
   "metadata": {},
   "source": [
    "a. Indexing in MongoDB is the process of creating an index on a specific field or set of fields in a collection. An index is a data structure that improves the speed of data retrieval operations, such as querying, by allowing MongoDB to quickly locate the desired data based on the indexed field(s).\n",
    "\n",
    "Indexes in MongoDB are implemented using B-tree data structures. When an index is created on a field, MongoDB creates an index entry for each document in the collection, storing the indexed field's value and a reference to the document. This allows MongoDB to perform index-based lookups and efficiently filter data based on the indexed field(s).\n",
    "\n",
    "The importance of indexing in query optimization cannot be overstated. By creating indexes on frequently queried fields, MongoDB can avoid performing full collection scans and instead use the index to narrow down the search space. This significantly improves query performance, especially for collections with a large number of documents."
   ]
  },
  {
   "cell_type": "code",
   "execution_count": null,
   "id": "bf3f23bf",
   "metadata": {},
   "outputs": [],
   "source": [
    "from pymongo import MongoClient\n",
    "\n",
    "def create_index_and_query():\n",
    "    # Connect to MongoDB\n",
    "    client = MongoClient(\"mongodb://localhost:27017/\")\n",
    "\n",
    "    # Get the database and collection\n",
    "    db = client[\"mydatabase\"]\n",
    "    collection = db[\"products\"]\n",
    "\n",
    "    # Create an index on the \"name\" field\n",
    "    collection.create_index(\"name\")\n",
    "\n",
    "    # Execute a query using the index\n",
    "    query = {\"name\": \"example_product\"}\n",
    "    result = collection.find(query)\n",
    "\n",
    "    # Print the query result\n",
    "    for product in result:\n",
    "        print(\"Name:\", product[\"name\"])\n",
    "        print(\"Description:\", product[\"description\"])\n",
    "        print()\n",
    "\n",
    "    # Close the connection\n",
    "    client.close()\n",
    "\n",
    "# Usage example\n",
    "create_index_and_query()\n"
   ]
  },
  {
   "cell_type": "markdown",
   "id": "9e92fda8",
   "metadata": {},
   "source": [
    "b. To optimize the query for searching products with a specific keyword in the name or description in the \"products\" collection, we can add appropriate indexes. Here's a Python function that performs the search and optimizes the query by adding indexes:"
   ]
  },
  {
   "cell_type": "code",
   "execution_count": null,
   "id": "34e4c4af",
   "metadata": {},
   "outputs": [],
   "source": [
    "from pymongo import MongoClient\n",
    "\n",
    "def search_products(keyword):\n",
    "    # Connect to MongoDB\n",
    "    client = MongoClient(\"mongodb://localhost:27017/\")\n",
    "\n",
    "    # Get the database and collection\n",
    "    db = client[\"mydatabase\"]\n",
    "    collection = db[\"products\"]\n",
    "\n",
    "    # Add indexes on the \"name\" and \"description\" fields\n",
    "    collection.create_index([(\"name\", \"text\"), (\"description\", \"text\")])\n",
    "\n",
    "    # Perform the search query using the indexes\n",
    "    query = {\"$text\": {\"$search\": keyword}}\n",
    "    result = collection.find(query)\n",
    "\n",
    "    # Print the search result\n",
    "    for product in result:\n",
    "        print(\"Name:\", product[\"name\"])\n",
    "        print(\"Description:\", product[\"description\"])\n",
    "        print()\n",
    "\n",
    "    # Close the connection\n",
    "    client.close()\n",
    "\n",
    "# Usage example\n",
    "search_products(\"example_keyword\")\n"
   ]
  }
 ],
 "metadata": {
  "kernelspec": {
   "display_name": "Python 3 (ipykernel)",
   "language": "python",
   "name": "python3"
  },
  "language_info": {
   "codemirror_mode": {
    "name": "ipython",
    "version": 3
   },
   "file_extension": ".py",
   "mimetype": "text/x-python",
   "name": "python",
   "nbconvert_exporter": "python",
   "pygments_lexer": "ipython3",
   "version": "3.10.6"
  }
 },
 "nbformat": 4,
 "nbformat_minor": 5
}
