{
 "cells": [
  {
   "cell_type": "markdown",
   "id": "204b1fbd",
   "metadata": {},
   "source": [
    "1. Write an SQL query to retrieve the names and email addresses of all employees from a table named \"Employees\"."
   ]
  },
  {
   "cell_type": "code",
   "execution_count": null,
   "id": "51c91d61",
   "metadata": {},
   "outputs": [],
   "source": [
    "SELECT name, email FROM employees;"
   ]
  },
  {
   "cell_type": "markdown",
   "id": "fc2ceb2c",
   "metadata": {},
   "source": [
    "2. Write an SQL query to filter records from a table named \"Customers\" where the \"City\" column is 'New York'."
   ]
  },
  {
   "cell_type": "code",
   "execution_count": null,
   "id": "48326152",
   "metadata": {
    "scrolled": true
   },
   "outputs": [],
   "source": [
    "SELECT * FROM customers \n",
    "WHERE city=\"New York\";"
   ]
  },
  {
   "cell_type": "markdown",
   "id": "7cfaf803",
   "metadata": {},
   "source": [
    "3. Write an SQL query to sort records in descending order based on the \"DateOfBirth\" column in a table named \"Users\"."
   ]
  },
  {
   "cell_type": "code",
   "execution_count": null,
   "id": "171e1ba2",
   "metadata": {},
   "outputs": [],
   "source": [
    "SELECT * FROM Users \n",
    "Order BY DateOfBirth desc;"
   ]
  },
  {
   "cell_type": "markdown",
   "id": "e27e39b3",
   "metadata": {},
   "source": [
    "4. Write an SQL query to sort records in ascending order based on the \"RegistrationDate\" column in a table named \"Users\""
   ]
  },
  {
   "cell_type": "code",
   "execution_count": null,
   "id": "52df803c",
   "metadata": {},
   "outputs": [],
   "source": [
    "SELECT * FROM Users \n",
    "ORDER BY RegistrationDate;"
   ]
  },
  {
   "cell_type": "markdown",
   "id": "5128c9d6",
   "metadata": {},
   "source": [
    "5. Write an SQL query to find the employee with the highest salary from a table named \"Employees\" and display their name, position, and salary."
   ]
  },
  {
   "cell_type": "code",
   "execution_count": null,
   "id": "589171e0",
   "metadata": {},
   "outputs": [],
   "source": [
    "SELECT name, position, salary FROM employee \n",
    "ORDER BY salary desc limit 1;"
   ]
  },
  {
   "cell_type": "markdown",
   "id": "ddf5905c",
   "metadata": {},
   "source": [
    "6. Write an SQL query to retrieve records from a table named \"Customers\" where the \"Phone\" column matches the pattern '+1-XXX-XXX-XXXX'."
   ]
  },
  {
   "cell_type": "code",
   "execution_count": null,
   "id": "068c7dbc",
   "metadata": {},
   "outputs": [],
   "source": [
    "SELECT * FROM customers \n",
    "WHERE Phone like '+1-___-___-____';"
   ]
  },
  {
   "cell_type": "markdown",
   "id": "fdc9dfba",
   "metadata": {},
   "source": [
    "7. Write an SQL query to retrieve the top 5 customers with the highest total purchase amount from a table named \"Orders\" and display their names and total purchase amounts."
   ]
  },
  {
   "cell_type": "code",
   "execution_count": null,
   "id": "01459ac8",
   "metadata": {},
   "outputs": [],
   "source": [
    "SELECT customer_name, sum(purchase_amount)as Total_Purchase_Amount \n",
    "FROM orders \n",
    "GROUP BY customer_name \n",
    "ORDER BY Total_purchase_amount desc\n",
    "limit 5;"
   ]
  },
  {
   "cell_type": "markdown",
   "id": "e7d94c0b",
   "metadata": {},
   "source": [
    "8. Write an SQL query to calculate the percentage of sales for each product category in a table named \"Sales\" and display the category name, total sales amount, and the percentage of total sales."
   ]
  },
  {
   "cell_type": "code",
   "execution_count": null,
   "id": "7ea2df51",
   "metadata": {},
   "outputs": [],
   "source": [
    "SELECT category, sum(sales_amount) as total_sales_amount, (sum(sales_amount)*100 / (select sum(sales_amount) from Sales))as total_sales_percentage from Sales\n",
    "GROUP BY category;\n"
   ]
  },
  {
   "cell_type": "markdown",
   "id": "acda09f2",
   "metadata": {},
   "source": [
    "9. Write an SQL query to find the customers who have made the highest total purchases across all years from a table named \"Orders\" and display their names, email addresses, and the total purchase amount."
   ]
  },
  {
   "cell_type": "code",
   "execution_count": null,
   "id": "38caf371",
   "metadata": {},
   "outputs": [],
   "source": [
    "SELECT customer_name, email_address, sum(purchase_amount)as total_purchase \n",
    "FROM Orders\n",
    "GROUP BY customer_name, email_address\n",
    "ORDER BY total_purchase desc\n",
    "LIMIT 1;"
   ]
  }
 ],
 "metadata": {
  "kernelspec": {
   "display_name": "Python 3 (ipykernel)",
   "language": "python",
   "name": "python3"
  },
  "language_info": {
   "codemirror_mode": {
    "name": "ipython",
    "version": 3
   },
   "file_extension": ".py",
   "mimetype": "text/x-python",
   "name": "python",
   "nbconvert_exporter": "python",
   "pygments_lexer": "ipython3",
   "version": "3.10.6"
  }
 },
 "nbformat": 4,
 "nbformat_minor": 5
}
