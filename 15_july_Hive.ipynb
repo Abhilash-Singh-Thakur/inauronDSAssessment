{
 "cells": [
  {
   "cell_type": "markdown",
   "id": "da628222",
   "metadata": {},
   "source": [
    "1.  Write a Python program that uses the HiveQL language to create a table named \"Employees\" with columns for \"id,\" \"name,\" and \"salary.\""
   ]
  },
  {
   "cell_type": "code",
   "execution_count": null,
   "id": "3414ccac",
   "metadata": {},
   "outputs": [],
   "source": [
    "from pyhive import hive\n",
    "\n",
    "connect = hive.Connection(host='localhost',port = port_number, auth=\"authentication\", database =\"database_name\")\n",
    "\n",
    "# Create a cursor object to execute HiveQL queries\n",
    "cursor = connect.cursor() \n",
    "\n",
    "# Query to create the employee table.\n",
    "create_table_query = ''' CREATE TABLE Employees (id INT, name STRING,salary FLOAT);'''\n",
    "\n",
    "#Execute the create table query\n",
    "cursor.execute(create_table_query)\n",
    "\n",
    "# commit the changes\n",
    "connect.commit()\n",
    "\n",
    "# close the connection\n",
    "connect.close()"
   ]
  },
  {
   "cell_type": "markdown",
   "id": "edca5d92",
   "metadata": {},
   "source": [
    "2.  Create a Python program that retrieves records from a Hive table named \"Customers\" where the age is greater than 30."
   ]
  },
  {
   "cell_type": "code",
   "execution_count": null,
   "id": "f8618da5",
   "metadata": {},
   "outputs": [],
   "source": [
    "from pyhive import hive\n",
    "\n",
    "connect = hive.Connection(host='localhose',port = 'port', auth='auth', database= \"database_name\")\n",
    "\n",
    "# Create a cursor object to execute HiveQL queries\n",
    "cursor = connect.cursor()\n",
    "\n",
    "# query to fetch the record.\n",
    "query = '''SELECT * FROM customer WHERE age>30;'''\n",
    "\n",
    "# execute the query.\n",
    "cursor.execute(query)\n",
    "\n",
    "# Fetch all the record\n",
    "records = cursor.fetchall()\n",
    "\n",
    "# Iterate over the records and print them\n",
    "for record in records:\n",
    "    print(record)\n",
    "\n",
    "# close the connection\n",
    "connection.close()"
   ]
  },
  {
   "cell_type": "markdown",
   "id": "dd03b554",
   "metadata": {},
   "source": [
    "3.  Write a Python script that sorts records in descending order based on the \"timestamp\" column in a Hive table named \"Logs.\""
   ]
  },
  {
   "cell_type": "code",
   "execution_count": null,
   "id": "b6393d24",
   "metadata": {},
   "outputs": [],
   "source": [
    "from pyhive import hive\n",
    "\n",
    "connect = hive.Connection(host='localhost',port=\"port_number\",auth=\"auth\",database=\"databasename\")\n",
    "\n",
    "cursor = connect.cursor()\n",
    "\n",
    "query = '''SELECT * FROM logs ORDER BY timestamp desc;'''\n",
    "\n",
    "cursor.execute(query)\n",
    "\n",
    "records = cursor.fetchall()\n",
    "\n",
    "for record in records:\n",
    "    print(record)\n",
    "    \n",
    "connect.close()"
   ]
  },
  {
   "cell_type": "markdown",
   "id": "98003658",
   "metadata": {},
   "source": [
    "4.  Write a Python program that connects to a Hive server using PyHive library and retrieves all records from a table named \"Products\"."
   ]
  },
  {
   "cell_type": "code",
   "execution_count": null,
   "id": "daf6134e",
   "metadata": {},
   "outputs": [],
   "source": [
    "from pyhive import hive\n",
    "\n",
    "connect = hive.Connection(host='localhost',port=\"port_number\",auth=\"auth\",database=\"databasename\")\n",
    "\n",
    "cursor = connect.cursor()\n",
    "\n",
    "query = '''SELECT * FROM Products;'''\n",
    "\n",
    "cursor.execute(query)\n",
    "\n",
    "records = cursor.fetchall()\n",
    "\n",
    "for record in records:\n",
    "    print(record)\n",
    "    \n",
    "connect.close()"
   ]
  },
  {
   "cell_type": "markdown",
   "id": "7e9863ef",
   "metadata": {},
   "source": [
    "5.  Write a Python script that calculates the average salary of employees from a Hive table named \"Employees\"."
   ]
  },
  {
   "cell_type": "code",
   "execution_count": null,
   "id": "a13708c2",
   "metadata": {},
   "outputs": [],
   "source": [
    "from pyhive import hive\n",
    "\n",
    "connect = hive.Connection(host=\"localhost\",port='port_number',auth='auth',database=\"database_name\")\n",
    "\n",
    "cursor = connect.cursor()\n",
    "\n",
    "query = '''SELECT avg(salary)as average_salary \n",
    "            FROM employee;'''\n",
    "\n",
    "cursor.execute(query)\n",
    "\n",
    "result = cursor.fetchone()\n",
    "\n",
    "average_salary = result[0]\n",
    "\n",
    "print(\"Average Salary:\", average_salary)\n",
    "\n",
    "connect.close()"
   ]
  },
  {
   "cell_type": "markdown",
   "id": "c40d75ce",
   "metadata": {},
   "source": [
    "6.  Implement a Python program that uses Hive partitioning to create a partitioned table named \"Sales_Data\" based on the \"year\" and \"month\" columns.\n"
   ]
  },
  {
   "cell_type": "code",
   "execution_count": null,
   "id": "71a64d92",
   "metadata": {},
   "outputs": [],
   "source": [
    "from pyhive import hive\n",
    "\n",
    "connect = hive.Connection(host=\"localhost\",port=\"port_number\", auth =\"auth\", database=\"your_database_name\")\n",
    "\n",
    "cursor = connect.cursor()\n",
    "\n",
    "create_table_query = ''' create table sales_data (name string, year int, month int) PARTITIONED BY (year INT, month INT) '''\n",
    "\n",
    "cursor.execute(create_table_query)\n",
    "\n",
    "connect.commit()\n",
    "\n",
    "connect.close()"
   ]
  },
  {
   "cell_type": "markdown",
   "id": "cb0cab86",
   "metadata": {},
   "source": [
    "7.  Develop a Python script that adds a new column named \"email\" of type string to an existing Hive table named \"Employees.\""
   ]
  },
  {
   "cell_type": "code",
   "execution_count": null,
   "id": "ef3d3af9",
   "metadata": {},
   "outputs": [],
   "source": [
    "from pyhive import hive\n",
    "\n",
    "# Establish a connection to Hive\n",
    "conn = hive.Connection(host='localhost', port=\"port_number\", auth='', database='your_database_name')\n",
    "\n",
    "# Create a cursor object to execute HiveQL queries\n",
    "cursor = conn.cursor()\n",
    "\n",
    "# HiveQL query to add a new column named \"email\" to the existing Employees table\n",
    "alter_table_query = '''\n",
    "ALTER TABLE Employees\n",
    "ADD COLUMNS (email STRING)\n",
    "'''\n",
    "\n",
    "# Execute the alter table query\n",
    "cursor.execute(alter_table_query)\n",
    "\n",
    "# Commit the changes\n",
    "conn.commit()\n",
    "\n",
    "# Close the connection\n",
    "conn.close()\n"
   ]
  },
  {
   "cell_type": "markdown",
   "id": "90fb30ce",
   "metadata": {},
   "source": [
    "8. Create a Python program that performs an inner join between two Hive tables, \"Orders\" and \"Customers,\" based on a common column."
   ]
  },
  {
   "cell_type": "code",
   "execution_count": null,
   "id": "1c8dfead",
   "metadata": {},
   "outputs": [],
   "source": [
    "from pyhive import hive\n",
    "\n",
    "# Establish a connection to Hive\n",
    "conn = hive.Connection(host='localhost', port=port_number, auth='', database='your_database_name')\n",
    "\n",
    "# Create a cursor object to execute HiveQL queries\n",
    "cursor = conn.cursor()\n",
    "\n",
    "# HiveQL query to perform the inner join between Orders and Customers tables\n",
    "query = '''\n",
    "SELECT *\n",
    "FROM Orders\n",
    "INNER JOIN Customers\n",
    "ON Orders.customer_id = Customers.customer_id\n",
    "'''\n",
    "\n",
    "# Execute the query\n",
    "cursor.execute(query)\n",
    "\n",
    "# Fetch all the joined records\n",
    "joined_records = cursor.fetchall()\n",
    "\n",
    "# Iterate over the joined records and print them\n",
    "for record in joined_records:\n",
    "    print(record)\n",
    "\n",
    "# Close the connection\n",
    "conn.close()\n"
   ]
  },
  {
   "cell_type": "markdown",
   "id": "c8e830f7",
   "metadata": {},
   "source": [
    "9.  Implement a Python program that uses the Hive SerDe library to process JSON data stored in a Hive table named \"User_Activity_Logs.\""
   ]
  },
  {
   "cell_type": "code",
   "execution_count": null,
   "id": "ab2d7990",
   "metadata": {},
   "outputs": [],
   "source": [
    "from pyhive import hive\n",
    "\n",
    "# Establish a connection to Hive\n",
    "conn = hive.Connection(host='localhost', port=10000, auth='NOSASL', database='your_database_name')\n",
    "\n",
    "# Create a cursor object to execute HiveQL queries\n",
    "cursor = conn.cursor()\n",
    "\n",
    "# HiveQL query to create a table with Hive SerDe for JSON data\n",
    "create_table_query = '''\n",
    "CREATE TABLE User_Activity_Logs (\n",
    "    column1 STRING,\n",
    "    column2 INT,\n",
    ")\n",
    "ROW FORMAT SERDE 'org.apache.hive.hcatalog.data.JsonSerDe'\n",
    "'''\n",
    "\n",
    "# Execute the create table query\n",
    "cursor.execute(create_table_query)\n",
    "\n",
    "# Commit the changes\n",
    "conn.commit()\n",
    "\n",
    "# Close the connection\n",
    "conn.close()\n"
   ]
  }
 ],
 "metadata": {
  "kernelspec": {
   "display_name": "Python 3 (ipykernel)",
   "language": "python",
   "name": "python3"
  },
  "language_info": {
   "codemirror_mode": {
    "name": "ipython",
    "version": 3
   },
   "file_extension": ".py",
   "mimetype": "text/x-python",
   "name": "python",
   "nbconvert_exporter": "python",
   "pygments_lexer": "ipython3",
   "version": "3.10.6"
  }
 },
 "nbformat": 4,
 "nbformat_minor": 5
}
