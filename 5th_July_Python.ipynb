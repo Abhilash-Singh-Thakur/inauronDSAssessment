{
 "cells": [
  {
   "cell_type": "markdown",
   "id": "c03b953e",
   "metadata": {},
   "source": [
    "# 1. Write a Python program to check if a given string is an anagram."
   ]
  },
  {
   "cell_type": "code",
   "execution_count": 27,
   "id": "a639e43c",
   "metadata": {},
   "outputs": [],
   "source": [
    "def check_anagram(string1, string2):\\\n",
    "    #case 1\n",
    "    if len(string1) != len(string2):\n",
    "        return False\n",
    "    # initialise the count array if 256 elements with zero\n",
    "    count = [0]*256\n",
    "    for i in range(len(string1)):\n",
    "        # insert the ascii value of respected char in the same index number\n",
    "        count[ord(string1[i])] +=1\n",
    "        count[ord(string2[i])] -=1\n",
    "#     checking the number of occurance is same or not    \n",
    "    for j in count:\n",
    "        if j != 0:\n",
    "            return False \n",
    "    return True\n",
    "\n",
    "# Driver Code\n",
    "string1 = \"listen\"\n",
    "string2 = \"silent\"\n",
    "check_anagram(string1, string2) # calling function"
   ]
  },
  {
   "cell_type": "markdown",
   "id": "323539ff",
   "metadata": {},
   "source": [
    "# 2. Write a Python program to find the maximum and minimum values in a dictionary."
   ]
  },
  {
   "cell_type": "code",
   "execution_count": 38,
   "id": "e19b1908",
   "metadata": {},
   "outputs": [
    {
     "name": "stdout",
     "output_type": "stream",
     "text": [
      "Minimum value: 5\n",
      "Maximum value: 15\n"
     ]
    }
   ],
   "source": [
    "def find_min_max(dict1):\n",
    "    # if dictionary is empty then return None\n",
    "    if not dict1:\n",
    "        return None\n",
    "    # initialize the min and max value None\n",
    "    max_value = None\n",
    "    min_value = None\n",
    "    \n",
    "    for value in dict1.values(): # iterate the values from the dictionaty.\n",
    "        if min_value is None or value<min_value:# Comparte the min_value with current value and update it\n",
    "            min_value = value\n",
    "        if max_value is None or value>max_value: # Compare the max_value with current value and update it\n",
    "            max_value = value\n",
    "    return min_value,max_value\n",
    "\n",
    "\n",
    "\n",
    "# Driver code\n",
    "my_dict = {\"a\": 10, \"b\": 5, \"c\": 15, \"d\": 8}\n",
    "min_val, max_val = find_min_max(my_dict)\n",
    "\n",
    "print(\"Minimum value:\", min_val)\n",
    "print(\"Maximum value:\", max_val)"
   ]
  },
  {
   "cell_type": "markdown",
   "id": "fbb1aa84",
   "metadata": {},
   "source": [
    "# 3. Write a Python program to find the average of a list of numbers."
   ]
  },
  {
   "cell_type": "code",
   "execution_count": 52,
   "id": "b43432e8",
   "metadata": {},
   "outputs": [
    {
     "data": {
      "text/plain": [
       "30.0"
      ]
     },
     "execution_count": 52,
     "metadata": {},
     "output_type": "execute_result"
    }
   ],
   "source": [
    "def calculate_average(list1):\n",
    "#     initialize the sum of number and count as zero\n",
    "    sum_of_numbers = 0\n",
    "    count = 0\n",
    "#     iterate the list and calculate the sum of numbers and count the no. of elements\n",
    "    for i in list1:\n",
    "        sum_of_numbers = sum_of_numbers + i\n",
    "        count = count + 1\n",
    "#     calculate the average\n",
    "    average = (sum_of_numbers/len(list1))\n",
    "#     return the average\n",
    "    return average\n",
    "\n",
    "# Driver code \n",
    "list1 = [10,20,30,40,50,50,40,30,20,10]\n",
    "calculate_average(list1)"
   ]
  },
  {
   "cell_type": "markdown",
   "id": "7f3e9e94",
   "metadata": {},
   "source": [
    "# 4. Write a Python program to remove all vowels from a string."
   ]
  },
  {
   "cell_type": "code",
   "execution_count": 58,
   "id": "faba972f",
   "metadata": {},
   "outputs": [
    {
     "data": {
      "text/plain": [
       "'bhlsh'"
      ]
     },
     "execution_count": 58,
     "metadata": {},
     "output_type": "execute_result"
    }
   ],
   "source": [
    "def remove_vowels(string1):\n",
    "    new_string = \"\" # create the new empty string\n",
    "    vowels = \"aeiouAEIOU\" # vowel string\n",
    "    for char in string1:\n",
    "        if char not in vowels:\n",
    "            new_string = new_string + char # add the char which is not vowel in the new_string\n",
    "            \n",
    "    return new_string\n",
    "\n",
    "# Driver Code\n",
    "string1 = \"abhilash\"\n",
    "remove_vowels(string1)"
   ]
  },
  {
   "cell_type": "markdown",
   "id": "f69008f2",
   "metadata": {},
   "source": [
    "# 5. Write a Python function to calculate the factorial of a number using recursion."
   ]
  },
  {
   "cell_type": "code",
   "execution_count": 61,
   "id": "e29efe42",
   "metadata": {},
   "outputs": [
    {
     "data": {
      "text/plain": [
       "720"
      ]
     },
     "execution_count": 61,
     "metadata": {},
     "output_type": "execute_result"
    }
   ],
   "source": [
    "def factorial(number):\n",
    "#     base case\n",
    "    if number == 1:\n",
    "        return 1\n",
    "#     recursive relation\n",
    "    return number*factorial(number-1)\n",
    "\n",
    "# Driver Code\n",
    "Number = 6\n",
    "factorial(Number)"
   ]
  },
  {
   "cell_type": "markdown",
   "id": "ec6656c9",
   "metadata": {},
   "source": [
    "# 6. Write a Python program to merge two unsorted lists into a single sorted list using the merge sort algorithm."
   ]
  },
  {
   "cell_type": "code",
   "execution_count": 3,
   "id": "d503e6ae",
   "metadata": {},
   "outputs": [
    {
     "name": "stdout",
     "output_type": "stream",
     "text": [
      "\n",
      "Sorted array is \n",
      "5 6 7 11 12 13 \n"
     ]
    }
   ],
   "source": [
    "# Python program for implementation of MergeSort\n",
    "\n",
    "\n",
    "def mergeSort(arr):\n",
    "    if len(arr) > 1:\n",
    "\n",
    "    # Finding the mid of the array\n",
    "        mid = len(arr)//2\n",
    "\n",
    "        # Dividing the array elements\n",
    "        L = arr[:mid]\n",
    "\n",
    "        # Into 2 halves\n",
    "        R = arr[mid:]\n",
    "\n",
    "        # Sorting the first half\n",
    "        mergeSort(L)\n",
    "\n",
    "        # Sorting the second half\n",
    "        mergeSort(R)\n",
    "\n",
    "        i = j = k = 0\n",
    "\n",
    "        # Copy data to temp arrays L[] and R[]\n",
    "        while i < len(L) and j < len(R):\n",
    "            if L[i] <= R[j]:\n",
    "                arr[k] = L[i]\n",
    "                i += 1\n",
    "            else:\n",
    "                arr[k] = R[j]\n",
    "                j += 1\n",
    "            k += 1\n",
    "\n",
    "        # Checking if any element was left\n",
    "        while i < len(L):\n",
    "            arr[k] = L[i]\n",
    "            i += 1\n",
    "            k += 1\n",
    "\n",
    "        while j < len(R):\n",
    "            arr[k] = R[j]\n",
    "            j += 1\n",
    "            k += 1\n",
    "\n",
    "\n",
    "# Code to print the list\n",
    "def printList(arr):\n",
    "    for i in range(len(arr)):\n",
    "        print(arr[i], end=\" \")\n",
    "    print()\n",
    "\n",
    "\n",
    "# Driver Code\n",
    "if __name__ == '__main__':\n",
    "    arr = [12, 11, 13, 5, 6, 7]\n",
    "    mergeSort(arr)\n",
    "    print(\"\\nSorted array is \")\n",
    "    printList(arr)"
   ]
  },
  {
   "cell_type": "markdown",
   "id": "1baf3ccc",
   "metadata": {},
   "source": [
    "# 7. Write a Python program to find the GCD (Greatest Common Divisor) of two numbers."
   ]
  },
  {
   "cell_type": "code",
   "execution_count": null,
   "id": "573940e8",
   "metadata": {},
   "outputs": [],
   "source": [
    "def gcd(a, b):\n",
    "    while b != 0:\n",
    "        a, b = b, a % b\n",
    "    return a\n",
    "\n",
    "# Example usage\n",
    "num1 = 24\n",
    "num2 = 36\n",
    "\n",
    "result = gcd(num1, num2)\n",
    "print(\"The GCD of\", num1, \"and\", num2, \"is\", result)\n"
   ]
  },
  {
   "cell_type": "markdown",
   "id": "eb92935e",
   "metadata": {},
   "source": [
    "# 8. Write a Python program to find the second-largest element in a list."
   ]
  },
  {
   "cell_type": "code",
   "execution_count": 4,
   "id": "d3b7f4ca",
   "metadata": {},
   "outputs": [
    {
     "name": "stdout",
     "output_type": "stream",
     "text": [
      "The second-largest element is: 8\n"
     ]
    }
   ],
   "source": [
    "def find_second_largest(nums):\n",
    "    if len(nums) < 2:\n",
    "        return None\n",
    "\n",
    "    largest = float('-inf')\n",
    "    second_largest = float('-inf')\n",
    "\n",
    "    for num in nums:\n",
    "        if num > largest:\n",
    "            second_largest = largest\n",
    "            largest = num\n",
    "        elif num > second_largest and num != largest:\n",
    "            second_largest = num\n",
    "\n",
    "    if second_largest == float('-inf'):\n",
    "        return None\n",
    "    else:\n",
    "        return second_largest\n",
    "\n",
    "# Driver code\n",
    "my_list = [5, 2, 8, 1, 9, 3, 7]\n",
    "second_largest = find_second_largest(my_list)\n",
    "if second_largest is not None:\n",
    "    print(\"The second-largest element is:\", second_largest)\n",
    "else:\n",
    "    print(\"No second-largest element found in the list.\")\n"
   ]
  },
  {
   "cell_type": "markdown",
   "id": "32f2ce1e",
   "metadata": {},
   "source": [
    "# 9. Write a Python program to find the longest common subsequence between two strings using dynamic programming."
   ]
  },
  {
   "cell_type": "code",
   "execution_count": 5,
   "id": "1489b8e6",
   "metadata": {},
   "outputs": [
    {
     "name": "stdout",
     "output_type": "stream",
     "text": [
      "Longest Common Subsequence: GTAB\n"
     ]
    }
   ],
   "source": [
    "def longest_common_subsequence(str1, str2):\n",
    "    m = len(str1)\n",
    "    n = len(str2)\n",
    "\n",
    "    # Create a table to store lengths of LCS\n",
    "    dp = [[0] * (n + 1) for _ in range(m + 1)]\n",
    "\n",
    "    # Compute LCS lengths\n",
    "    for i in range(1, m + 1):\n",
    "        for j in range(1, n + 1):\n",
    "            if str1[i - 1] == str2[j - 1]:\n",
    "                dp[i][j] = dp[i - 1][j - 1] + 1\n",
    "            else:\n",
    "                dp[i][j] = max(dp[i - 1][j], dp[i][j - 1])\n",
    "\n",
    "    # Construct LCS from the table\n",
    "    lcs = ''\n",
    "    i, j = m, n\n",
    "    while i > 0 and j > 0:\n",
    "        if str1[i - 1] == str2[j - 1]:\n",
    "            lcs = str1[i - 1] + lcs\n",
    "            i -= 1\n",
    "            j -= 1\n",
    "        elif dp[i - 1][j] > dp[i][j - 1]:\n",
    "            i -= 1\n",
    "        else:\n",
    "            j -= 1\n",
    "\n",
    "    return lcs\n",
    "\n",
    "# Example usage\n",
    "str1 = \"AGGTAB\"\n",
    "str2 = \"GXTXAYB\"\n",
    "\n",
    "lcs = longest_common_subsequence(str1, str2)\n",
    "print(\"Longest Common Subsequence:\", lcs)\n"
   ]
  },
  {
   "cell_type": "code",
   "execution_count": null,
   "id": "1605eb9a",
   "metadata": {},
   "outputs": [],
   "source": []
  }
 ],
 "metadata": {
  "kernelspec": {
   "display_name": "Python 3 (ipykernel)",
   "language": "python",
   "name": "python3"
  },
  "language_info": {
   "codemirror_mode": {
    "name": "ipython",
    "version": 3
   },
   "file_extension": ".py",
   "mimetype": "text/x-python",
   "name": "python",
   "nbconvert_exporter": "python",
   "pygments_lexer": "ipython3",
   "version": "3.10.6"
  }
 },
 "nbformat": 4,
 "nbformat_minor": 5
}
